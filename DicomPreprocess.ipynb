{
 "cells": [
  {
   "cell_type": "code",
   "execution_count": 1,
   "metadata": {},
   "outputs": [
    {
     "ename": "ModuleNotFoundError",
     "evalue": "No module named 'pydicom'",
     "output_type": "error",
     "traceback": [
      "\u001b[0;31m---------------------------------------------------------------------------\u001b[0m",
      "\u001b[0;31mModuleNotFoundError\u001b[0m                       Traceback (most recent call last)",
      "\u001b[0;32m<ipython-input-1-7facfc9097c7>\u001b[0m in \u001b[0;36m<module>\u001b[0;34m\u001b[0m\n\u001b[1;32m      3\u001b[0m \u001b[0;32mimport\u001b[0m \u001b[0mnumpy\u001b[0m \u001b[0;32mas\u001b[0m \u001b[0mnp\u001b[0m \u001b[0;31m# linear algebra\u001b[0m\u001b[0;34m\u001b[0m\u001b[0;34m\u001b[0m\u001b[0m\n\u001b[1;32m      4\u001b[0m \u001b[0;32mimport\u001b[0m \u001b[0mpandas\u001b[0m \u001b[0;32mas\u001b[0m \u001b[0mpd\u001b[0m \u001b[0;31m# data processing, CSV file I/O (e.g. pd.read_csv)\u001b[0m\u001b[0;34m\u001b[0m\u001b[0;34m\u001b[0m\u001b[0m\n\u001b[0;32m----> 5\u001b[0;31m \u001b[0;32mimport\u001b[0m \u001b[0mpydicom\u001b[0m\u001b[0;34m\u001b[0m\u001b[0;34m\u001b[0m\u001b[0m\n\u001b[0m\u001b[1;32m      6\u001b[0m \u001b[0;32mimport\u001b[0m \u001b[0mos\u001b[0m\u001b[0;34m\u001b[0m\u001b[0;34m\u001b[0m\u001b[0m\n\u001b[1;32m      7\u001b[0m \u001b[0;32mimport\u001b[0m \u001b[0mscipy\u001b[0m\u001b[0;34m.\u001b[0m\u001b[0mndimage\u001b[0m\u001b[0;34m\u001b[0m\u001b[0;34m\u001b[0m\u001b[0m\n",
      "\u001b[0;31mModuleNotFoundError\u001b[0m: No module named 'pydicom'"
     ]
    }
   ],
   "source": [
    "%matplotlib inline\n",
    "\n",
    "import numpy as np # linear algebra\n",
    "import pandas as pd # data processing, CSV file I/O (e.g. pd.read_csv)\n",
    "import pydicom\n",
    "import os\n",
    "import scipy.ndimage\n",
    "import matplotlib.pyplot as plt\n",
    "\n",
    "from skimage import measure, morphology\n",
    "from mpl_toolkits.mplot3d.art3d import Poly3DCollection\n",
    "\n",
    "# Some constants \n",
    "INPUT_FOLDER = '../DaneDICOM/DICOMNativeAnonymized/'\n",
    "over_patients = os.listdir(INPUT_FOLDER)\n",
    "# patients.sort()\n",
    "print(over_patients, len(over_patients))"
   ]
  },
  {
   "cell_type": "code",
   "execution_count": null,
   "metadata": {},
   "outputs": [],
   "source": [
    "# sample_patient = os.listdir(INPUT_FOLDER + over_patients[0])[0]\n",
    "# sample_patient = INPUT_FOLDER + over_patients[0] + '/' + sample_patient\n",
    "# print(sample_patient)\n",
    "# #sample_slices = pydicom.read_file(sample_patient)"
   ]
  },
  {
   "cell_type": "code",
   "execution_count": 2,
   "metadata": {},
   "outputs": [],
   "source": [
    "def get_patient_target_folder(patient_parent_folder):\n",
    "    patient_target_folder = os.listdir(patient_parent_folder)[0]\n",
    "    patient_target_folder = patient_parent_folder + '/' + patient_target_folder\n",
    "    return patient_target_folder"
   ]
  },
  {
   "cell_type": "code",
   "execution_count": 3,
   "metadata": {},
   "outputs": [
    {
     "name": "stdout",
     "output_type": "stream",
     "text": [
      "['../DaneDICOM/DICOMNativeAnonymized/1.2.124.113532.12.10699.12127.20110301.154346.9227917/1.3.12.2.1107.5.1.4.53642.30000011022806271114000017842', '../DaneDICOM/DICOMNativeAnonymized/1.2.124.113532.12.10699.12127.20110321.143718.22145985/1.3.12.2.1107.5.1.4.53642.30000011032114095153100000518', '../DaneDICOM/DICOMNativeAnonymized/1.2.124.113532.12.10699.12127.20110513.80519.17850612/1.3.12.2.1107.5.1.4.53642.30000011051219413425000001288', '../DaneDICOM/DICOMNativeAnonymized/1.2.124.113532.12.10699.12127.20110524.151401.25288183/1.3.12.2.1107.5.1.4.53642.30000011052316233285900008053', '../DaneDICOM/DICOMNativeAnonymized/1.2.124.113532.12.10699.12127.20110524.92951.24933278/1.3.12.2.1107.5.1.4.53642.30000011052316233285900003826', '../DaneDICOM/DICOMNativeAnonymized/1.2.124.113532.12.10699.12127.20110728.95808.26592756/1.3.12.2.1107.5.1.4.53642.30000011072805541090600004108', '../DaneDICOM/DICOMNativeAnonymized/1.2.124.113532.12.10699.12127.20110729.100309.27384465/1.3.12.2.1107.5.1.4.53642.30000011072814583115600006885', '../DaneDICOM/DICOMNativeAnonymized/1.2.124.113532.12.10699.12127.20110818.100321.37997735/1.3.12.2.1107.5.1.4.53642.30000011081704563162500010567', '../DaneDICOM/DICOMNativeAnonymized/1.2.124.113532.12.10699.12127.20110819.103226.38693870/1.3.12.2.1107.5.1.4.53642.30000011081904590037500005616', '../DaneDICOM/DICOMNativeAnonymized/1.2.124.113532.12.10699.12127.20110824.105030.41626205/1.3.12.2.1107.5.1.4.53642.30000011082405590539000005233', '../DaneDICOM/DICOMNativeAnonymized/1.2.124.113532.12.10699.12127.20111003.134443.66727498/1.3.12.2.1107.5.1.4.53642.30000011100106065011500012667', '../DaneDICOM/DICOMNativeAnonymized/1.2.124.113532.12.10699.12127.20111010.141926.71798061/1.3.12.2.1107.5.1.4.53642.30000011100910373151500009701', '../DaneDICOM/DICOMNativeAnonymized/1.2.124.113532.12.10699.12127.20111021.81105.79252041/1.3.12.2.1107.5.1.4.53642.30000011102106024132800000114', '../DaneDICOM/DICOMNativeAnonymized/1.2.124.113532.12.10699.12127.20111205.131136.17780422/1.3.12.2.1107.5.1.4.53642.30000011120507024881200006534', '../DaneDICOM/DICOMNativeAnonymized/1.2.124.113532.12.10699.12127.20120221.123619.71765652/1.3.12.2.1107.5.1.4.53642.30000012022107041778100005981', '../DaneDICOM/DICOMNativeAnonymized/1.2.124.113532.12.10699.12127.20120308.150516.83850192/1.3.12.2.1107.5.1.4.53642.30000012030806500171800007856', '../DaneDICOM/DICOMNativeAnonymized/1.2.124.113532.12.10699.12127.20120326.124951.95910468/1.3.12.2.1107.5.1.4.53642.30000012032521301029600004921', '../DaneDICOM/DICOMNativeAnonymized/1.2.124.113532.12.10699.12127.20120504.121533.137253566/1.3.12.2.1107.5.1.4.53642.30000012050408392567100003081', '../DaneDICOM/DICOMNativeAnonymized/1.2.124.113532.12.10699.12127.20120622.154554.208554692/1.3.12.2.1107.5.1.4.53642.30000012062205580365600008833', '../DaneDICOM/DICOMNativeAnonymized/1.2.124.113532.12.10699.12127.20120801.80219.27345863/1.3.12.2.1107.5.1.4.53642.30000012080105284664000000502', '../DaneDICOM/DICOMNativeAnonymized/1.2.124.113532.12.10699.12127.20120914.150536.22052472/1.3.12.2.1107.5.1.4.53642.30000012091406082931200008833', '../DaneDICOM/DICOMNativeAnonymized/1.2.124.113532.12.10699.12127.20130107.131930.52682931/1.3.12.2.1107.5.1.4.53642.30000013010706515132800005086', '../DaneDICOM/DICOMNativeAnonymized/1.2.124.113532.12.10699.12127.20130711.75801.214526043/1.2.840.113619.2.337.3.2831162990.117.1373434492.572', '../DaneDICOM/DICOMNativeAnonymized/1.2.124.113532.12.10699.12127.20130716.75845.221118257/1.3.12.2.1107.5.1.4.53642.30000013071605200709300002706', '../DaneDICOM/DICOMNativeAnonymized/1.2.124.113532.12.10699.12127.20130813.91455.264349634/1.2.840.113619.2.337.3.2831162990.423.1376372824.509', '../DaneDICOM/DICOMNativeAnonymized/1.2.124.113532.12.10699.12127.20131108.105800.406928651/1.2.840.113619.2.337.3.2831162990.212.1383890813.270', '../DaneDICOM/DICOMNativeAnonymized/1.2.124.113532.12.10699.12127.20131129.104146.440984844/1.3.12.2.1107.5.1.4.53642.30000013112906510631200003847', '../DaneDICOM/DICOMNativeAnonymized/1.2.124.113532.12.10699.12127.20131129.133812.441560837/1.3.12.2.1107.5.1.4.53642.30000013112906510631200006852', '../DaneDICOM/DICOMNativeAnonymized/1.2.124.113532.12.10699.12127.20131217.123938.470297739/1.2.392.200036.9116.2.6.1.48.1214242977.1387251602.393094', '../DaneDICOM/DICOMNativeAnonymized/1.2.124.113532.12.10699.12127.20140113.105935.741788/1.2.392.200036.9116.2.6.1.48.1214242977.1389570305.317337', '../DaneDICOM/DICOMNativeAnonymized/1.2.124.113532.12.10699.12127.20140228.103305.86717471/1.3.12.2.1107.5.1.4.53642.30000014041106070157800003540', '../DaneDICOM/DICOMNativeAnonymized/1.2.124.113532.12.10699.12127.20140304.80510.92380099/1.3.12.2.1107.5.1.4.53642.30000014030407061357800000872', '../DaneDICOM/DICOMNativeAnonymized/1.2.124.113532.12.10699.12127.20140507.100229.209026108/1.2.840.113619.2.337.3.2831162990.194.1399438378.901', '../DaneDICOM/DICOMNativeAnonymized/1.2.124.113532.12.10699.12127.20140721.114446.350220518/1.3.12.2.1107.5.1.4.53642.30000014082505564992100002396', '../DaneDICOM/DICOMNativeAnonymized/1.2.124.113532.12.10699.12127.20140805.115557.375988118/1.3.12.2.1107.5.1.4.53642.30000014101706044771800011216', '../DaneDICOM/DICOMNativeAnonymized/1.2.124.113532.12.10699.12127.20140901.104417.425793100/1.3.12.2.1107.5.1.4.53642.30000014090106092320300009520', '../DaneDICOM/DICOMNativeAnonymized/1.2.124.113532.12.10699.12127.20141021.122703.525220887/1.3.12.2.1107.5.1.4.53642.30000014112607123289000004414', '../DaneDICOM/DICOMNativeAnonymized/1.2.124.113532.12.10699.12127.20141209.132147.620801465/1.2.840.113619.2.337.3.2831162990.502.1418103472.65', '../DaneDICOM/DICOMNativeAnonymized/1.2.124.113532.12.10699.12127.20150123.95829.700176120/1.2.840.113619.2.337.3.2831162990.163.1421905942.472', '../DaneDICOM/DICOMNativeAnonymized/1.2.124.113532.12.10699.12127.20150126.122834.703958290/1.2.392.200036.9116.2.6.1.3268.2047269746.1426045194.925113', '../DaneDICOM/DICOMNativeAnonymized/1.2.124.113532.12.10699.12127.20150209.104510.732733619/1.2.392.200036.9116.2.6.1.3268.2047269746.1424072550.672628', '../DaneDICOM/DICOMNativeAnonymized/1.2.124.113532.12.10699.12127.20150210.114400.735505600/1.2.392.200036.9116.2.6.1.3268.2047269746.1424154921.180403', '../DaneDICOM/DICOMNativeAnonymized/1.2.124.113532.12.10699.12127.20150212.112112.740318431/1.2.392.200036.9116.2.6.1.3268.2047269746.1424300664.744282', '../DaneDICOM/DICOMNativeAnonymized/1.2.124.113532.12.10699.12127.20150305.123746.782639544/1.2.392.200036.9116.2.6.1.3268.2047269746.1426114879.825587', '../DaneDICOM/DICOMNativeAnonymized/1.2.124.113532.12.10699.12127.20150311.141019.796369890/1.2.392.200036.9116.2.6.1.3268.2047269746.1426655188.988230', '../DaneDICOM/DICOMNativeAnonymized/1.2.124.113532.12.10699.12127.20150313.112943.800695092/1.2.392.200036.9116.2.6.1.3268.2047269746.1426742479.934784', '../DaneDICOM/DICOMNativeAnonymized/1.2.124.113532.12.10699.12127.20150320.121250.814269257/1.2.840.113619.2.337.3.2831162990.18.1426829090.393', '../DaneDICOM/DICOMNativeAnonymized/1.2.124.113532.12.10699.12127.20150323.105413.817339256/1.2.840.113619.2.337.3.2831162990.870.1427088768.896', '../DaneDICOM/DICOMNativeAnonymized/1.2.124.113532.12.10699.12127.20150327.92216.826029339/1.2.392.200036.9116.2.6.1.3268.2047269746.1430895625.573756', '../DaneDICOM/DICOMNativeAnonymized/1.2.124.113532.12.10699.12127.20150331.113224.832438443/1.2.392.200036.9116.2.6.1.3268.2047269746.1428582538.238460', '../DaneDICOM/DICOMNativeAnonymized/1.2.124.113532.12.10699.12127.20150409.131558.850932664/1.2.392.200036.9116.2.6.1.3268.2047269746.1428924781.795821', '../DaneDICOM/DICOMNativeAnonymized/1.2.124.113532.12.10699.12127.20150415.101934.9607973/1.2.392.200036.9116.2.6.1.3268.2047269746.1429617731.125263', '../DaneDICOM/DICOMNativeAnonymized/1.2.124.113532.12.10699.12127.20150416.113408.12638759/1.2.392.200036.9116.2.6.1.3268.2047269746.1429622515.570080', '../DaneDICOM/DICOMNativeAnonymized/1.2.124.113532.12.10699.12127.20150507.105625.63672544/1.2.392.200036.9116.2.6.1.3268.2047269746.1431524519.25793', '../DaneDICOM/DICOMNativeAnonymized/1.2.124.113532.12.10699.12127.20150519.113521.90787664/1.2.392.200036.9116.2.6.1.3268.2047269746.1435821863.553184', '../DaneDICOM/DICOMNativeAnonymized/1.2.124.113532.12.10699.12127.20150602.104315.125247699/1.2.392.200036.9116.2.6.1.3268.2047269746.1433771152.230996', '../DaneDICOM/DICOMNativeAnonymized/1.2.124.113532.12.10699.12127.20150610.121315.145368676/1.2.392.200036.9116.2.6.1.3268.2047269746.1434456295.985340', '../DaneDICOM/DICOMNativeAnonymized/1.2.124.113532.12.10699.12127.20150615.134236.156995595/1.2.392.200036.9116.2.6.1.3268.2047269746.1434726799.512090', '../DaneDICOM/DICOMNativeAnonymized/1.2.124.113532.12.10699.12127.20150629.123138.187804537/1.2.392.200036.9116.2.6.1.3268.2047269746.1435760379.800862', '../DaneDICOM/DICOMNativeAnonymized/1.2.124.113532.12.10699.12127.20150701.145916.195911294/1.2.392.200036.9116.2.6.1.3268.2047269746.1435758116.348498', '../DaneDICOM/DICOMNativeAnonymized/1.2.124.113532.12.10699.12127.20150709.111739.214213044/1.2.392.200036.9116.2.6.1.3268.2047269746.1437458562.684893', '../DaneDICOM/DICOMNativeAnonymized/1.2.124.113532.12.10699.12127.20150716.132505.232273643/1.2.392.200036.9116.2.6.1.3268.2047269746.1437977112.776772', '../DaneDICOM/DICOMNativeAnonymized/1.2.124.113532.12.10699.12127.20150721.120719.241421704/1.2.392.200036.9116.2.6.1.3268.2047269746.1438693543.7315', '../DaneDICOM/DICOMNativeAnonymized/1.2.124.113532.12.10699.12127.20150811.111917.284267811/1.2.392.200036.9116.2.6.1.3268.2047269746.1440137261.569233', '../DaneDICOM/DICOMNativeAnonymized/1.2.124.113532.12.10699.12127.20150831.114916.327081638/1.2.392.200036.9116.2.6.1.3268.2047269746.1441981570.829079', '../DaneDICOM/DICOMNativeAnonymized/1.2.124.113532.12.10699.12127.20150907.125212.343700161/1.2.392.200036.9116.2.6.1.3268.2047269746.1442500775.726263', '../DaneDICOM/DICOMNativeAnonymized/1.2.124.113532.12.10699.12127.20150908.123445.346366125/1.2.392.200036.9116.2.6.1.3268.2047269746.1442815093.361297', '../DaneDICOM/DICOMNativeAnonymized/1.2.124.113532.12.10699.12127.20150916.141833.364810520/1.2.392.200036.9116.2.6.1.3268.2047269746.1443703354.802617', '../DaneDICOM/DICOMNativeAnonymized/1.2.124.113532.12.10699.12127.20150923.104714.378475625/1.2.392.200036.9116.2.6.1.3268.2047269746.1444286125.108421', '../DaneDICOM/DICOMNativeAnonymized/1.2.124.113532.12.10699.12127.20150930.134304.394576165/1.2.392.200036.9116.2.6.1.3268.2047269746.1444918787.14638', '../DaneDICOM/DICOMNativeAnonymized/1.2.124.113532.12.10699.12127.20151002.165556.404734032/1.2.392.200036.9116.2.6.1.3268.2047269746.1443798148.741121', '../DaneDICOM/DICOMNativeAnonymized/1.2.124.113532.12.10699.12127.20151013.93942.425113703/1.2.840.113619.2.337.3.2831162990.186.1444710606.564', '../DaneDICOM/DICOMNativeAnonymized/1.2.124.113532.12.10699.12127.20151015.115849.432540221/1.2.392.200036.9116.2.6.1.3268.2047269746.1445863863.910237', '../DaneDICOM/DICOMNativeAnonymized/1.2.124.113532.12.10699.12127.20151016.73704.433945372/1.2.840.113619.2.337.3.2831162990.850.1444969542.129', '../DaneDICOM/DICOMNativeAnonymized/1.2.392.200036.9116.2.2.2.1762658420.1203904329.336701/1.2.392.200036.9116.2.2.2.1762658420.1203904462.52110', '../DaneDICOM/DICOMNativeAnonymized/1.2.392.200036.9116.2.5.1.37.2418449570.1405381677.186427/1.2.392.200036.9116.2.5.1.37.2418449570.1405382532.60559', '../DaneDICOM/DICOMNativeAnonymized/1.2.392.200036.9116.2.5.1.48.1215679084.1222814913.891951/1.2.392.200036.9116.2.5.1.48.1215679084.1222815506.608437', '../DaneDICOM/DICOMNativeAnonymized/1.2.392.200036.9116.2.6.1.16.1613471653.1380242407.637812/1.2.392.200036.9116.2.6.1.16.1613471653.1380242723.526737', '../DaneDICOM/DICOMNativeAnonymized/1.2.392.200036.9116.2.6.1.3268.2047269746.1421717629.904425/1.2.392.200036.9116.2.6.1.3268.2047269746.1421718556.193010', '../DaneDICOM/DICOMNativeAnonymized/1.2.392.200036.9116.2.6.1.48.1224104569.1369093952.582251/1.2.392.200036.9116.2.6.1.48.1224104569.1369094091.670860', '../DaneDICOM/DICOMNativeAnonymized/1.2.410.200010.14.4.1122633.7767.109829.92622.81539879.92622/1.2.392.200036.9116.2.5.1.37.2427179142.1395204831.329351', '../DaneDICOM/DICOMNativeAnonymized/1.2.826.0.1.3680043.2.1041.4.5.11391408/1.3.12.2.1107.5.1.4.60193.30000013052906251228100044250', '../DaneDICOM/DICOMNativeAnonymized/1.2.826.0.1.3680043.2.1519.2.4500.2014.773916/1.3.12.2.1107.5.1.4.78844.30000014111714342364000023116', '../DaneDICOM/DICOMNativeAnonymized/1.2.840.113619.2.278.3.2831174500.374.1398658178.504/1.2.840.113619.2.278.3.2831174500.374.1398658178.509', '../DaneDICOM/DICOMNativeAnonymized/1.2.840.113619.2.278.3.2831174500.465.1421053191.451/1.2.840.113619.2.278.3.2831174500.465.1421053191.456', '../DaneDICOM/DICOMNativeAnonymized/1.2.840.113619.2.55.3.8393732.564.1300267559.595/1.2.840.113619.2.55.3.8393732.564.1300267559.600', '../DaneDICOM/DICOMNativeAnonymized/1.2.840.113619.2.81.290.26090.15149.20080214.233014/1.2.840.113619.2.81.290.26090.15149.2.20080214.233202', '../DaneDICOM/DICOMNativeAnonymized/1.2.840.113619.2.81.290.46036.3820.20141013.202435/1.2.840.113619.2.81.290.46036.3820.2.20141013.202524', '../DaneDICOM/DICOMNativeAnonymized/1.3.12.2.1107.5.1.4.36902.30000008110707525750000000013/1.3.12.2.1107.5.1.4.36902.30000008110707190282800000330', '../DaneDICOM/DICOMNativeAnonymized/1.3.12.2.1107.5.1.4.37138.30000008121207165987500000056/1.3.12.2.1107.5.1.4.37138.30000008121207012800000001393', '../DaneDICOM/DICOMNativeAnonymized/1.3.12.2.1107.5.1.4.43600.30000008021101215839000000046/1.3.12.2.1107.5.1.4.43600.30000008021101110389000001375', '../DaneDICOM/DICOMNativeAnonymized/1.3.12.2.1107.5.1.4.50903.30000014101611454431200000040/1.3.12.2.1107.5.1.4.50903.30000014101611001529600001660', '../DaneDICOM/DICOMNativeAnonymized/1.3.12.2.1107.5.1.4.53013.30000007010109502956200000037/1.3.12.2.1107.5.1.4.53013.30000007010109504220300001815', '../DaneDICOM/DICOMNativeAnonymized/1.3.12.2.1107.5.1.4.53013.30000007040311001984300000241/1.3.12.2.1107.5.1.4.53013.30000007040311005115600014110', '../DaneDICOM/DICOMNativeAnonymized/1.3.12.2.1107.5.1.4.53013.30000007052406140917100000595/1.3.12.2.1107.5.1.4.53013.30000007052406141987500028770', '../DaneDICOM/DICOMNativeAnonymized/1.3.12.2.1107.5.1.4.53013.30000007060212575382800000391/1.3.12.2.1107.5.1.4.53013.30000007060212580043700019370', '../DaneDICOM/DICOMNativeAnonymized/1.3.12.2.1107.5.1.4.53013.30000007091709141164000001004/1.3.12.2.1107.5.1.4.53013.30000007091709142643700044072', '../DaneDICOM/DICOMNativeAnonymized/1.3.12.2.1107.5.1.4.53013.30000007101708435570300000067/1.3.12.2.1107.5.1.4.53013.30000007101708443960900003387', '../DaneDICOM/DICOMNativeAnonymized/1.3.12.2.1107.5.1.4.53013.30000008012008452565600000049/1.3.12.2.1107.5.1.4.53013.30000008012008331529600003459', '../DaneDICOM/DICOMNativeAnonymized/1.3.12.2.1107.5.1.4.53013.30000008041122563617100000082/1.3.12.2.1107.5.1.4.53013.30000008041122564520300002920', '../DaneDICOM/DICOMNativeAnonymized/1.3.12.2.1107.5.1.4.53013.30000008041122563617100000097/1.3.12.2.1107.5.1.4.53013.30000008041122564520300004271', '../DaneDICOM/DICOMNativeAnonymized/1.3.12.2.1107.5.1.4.53013.30000008083119380160900000016/1.3.12.2.1107.5.1.4.53013.30000008083119302656200001014', '../DaneDICOM/DICOMNativeAnonymized/1.3.12.2.1107.5.1.4.53013.4.0.14996869210918363/1.3.12.2.1107.5.1.4.53013.4.0.15083938850861316', '../DaneDICOM/DICOMNativeAnonymized/1.3.12.2.1107.5.1.4.53013.4.0.16111025622702113/1.3.12.2.1107.5.1.4.53013.4.0.16151073555528871', '../DaneDICOM/DICOMNativeAnonymized/1.3.12.2.1107.5.1.4.53013.4.0.16415772627578660/1.3.12.2.1107.5.1.4.53013.4.0.16445897819981471', '../DaneDICOM/DICOMNativeAnonymized/1.3.12.2.1107.5.1.4.53013.4.0.17420523416442957/1.3.12.2.1107.5.1.4.53013.4.0.17422390029248465', '../DaneDICOM/DICOMNativeAnonymized/1.3.12.2.1107.5.1.4.53013.4.0.18906759744913084/1.3.12.2.1107.5.1.4.53013.4.0.18903811827801044', '../DaneDICOM/DICOMNativeAnonymized/1.3.12.2.1107.5.1.4.53013.4.0.22396000683935522/1.3.12.2.1107.5.1.4.53013.4.0.22589397631101686', '../DaneDICOM/DICOMNativeAnonymized/1.3.12.2.1107.5.1.4.53013.4.0.22792445017502879/1.3.12.2.1107.5.1.4.53013.4.0.22911200413057384', '../DaneDICOM/DICOMNativeAnonymized/1.3.12.2.1107.5.1.4.53013.4.0.2307559439591908/1.3.12.2.1107.5.1.4.53013.4.0.2401927217512291', '../DaneDICOM/DICOMNativeAnonymized/1.3.12.2.1107.5.1.4.53013.4.0.2595926157801/1.3.12.2.1107.5.1.4.53013.4.0.95833619543214', '../DaneDICOM/DICOMNativeAnonymized/1.3.12.2.1107.5.1.4.53013.4.0.26162310926388804/1.3.12.2.1107.5.1.4.53013.4.0.26209011397341105', '../DaneDICOM/DICOMNativeAnonymized/1.3.12.2.1107.5.1.4.53013.4.0.3065494822651796/1.3.12.2.1107.5.1.4.53013.4.0.3079261117641250', '../DaneDICOM/DICOMNativeAnonymized/1.3.12.2.1107.5.1.4.53013.4.0.3747990115572243/1.3.12.2.1107.5.1.4.53013.4.0.3782417432614147', '../DaneDICOM/DICOMNativeAnonymized/1.3.12.2.1107.5.1.4.53013.4.0.3993252427261330/1.3.12.2.1107.5.1.4.53013.4.0.4026951137735885', '../DaneDICOM/DICOMNativeAnonymized/1.3.12.2.1107.5.1.4.53013.4.0.6737848917902460/1.3.12.2.1107.5.1.4.53013.4.0.6767613911387217', '../DaneDICOM/DICOMNativeAnonymized/1.3.12.2.1107.5.1.4.53013.4.0.9510181032999947/1.3.12.2.1107.5.1.4.53013.4.0.9662460927192235', '../DaneDICOM/DICOMNativeAnonymized/1.3.12.2.1107.5.1.4.53642.30000008120307354814000000241/1.3.12.2.1107.5.1.4.53642.30000008120307282492100012613', '../DaneDICOM/DICOMNativeAnonymized/1.3.12.2.1107.5.1.4.53642.30000008120708371818700000157/1.3.12.2.1107.5.1.4.53642.30000008120708082550000010176', '../DaneDICOM/DICOMNativeAnonymized/1.3.12.2.1107.5.1.4.53642.30000008122700561784300000157/1.3.12.2.1107.5.1.4.53642.30000008122700574068700006753', '../DaneDICOM/DICOMNativeAnonymized/1.3.12.2.1107.5.1.4.53642.30000009022109072865600000274/1.3.12.2.1107.5.1.4.53642.30000009022106590912500015617', '../DaneDICOM/DICOMNativeAnonymized/1.3.12.2.1107.5.1.4.53642.30000009030508115045300000073/1.3.12.2.1107.5.1.4.53642.30000009030508125476500004487', '../DaneDICOM/DICOMNativeAnonymized/1.3.12.2.1107.5.1.4.53642.30000009040816253439000000094/1.3.12.2.1107.5.1.4.53642.30000009040816254732800004622', '../DaneDICOM/DICOMNativeAnonymized/1.3.12.2.1107.5.1.4.53642.30000009060312200484300000040/1.3.12.2.1107.5.1.4.53642.30000009060312290051100002085', '../DaneDICOM/DICOMNativeAnonymized/1.3.12.2.1107.5.1.4.53642.30000009070509154070300000061/1.3.12.2.1107.5.1.4.53642.30000009070506370395300004605', '../DaneDICOM/DICOMNativeAnonymized/1.3.12.2.1107.5.1.4.53642.30000010022208064217100000028/1.3.12.2.1107.5.1.4.53642.30000010022208070292100001335', '../DaneDICOM/DICOMNativeAnonymized/1.3.12.2.1107.5.1.4.53642.30000010022208064217100000148/1.3.12.2.1107.5.1.4.53642.30000010022208082232800016916', '../DaneDICOM/DICOMNativeAnonymized/1.3.12.2.1107.5.1.4.53642.30000010091406150955500000004/1.3.12.2.1107.5.1.4.53642.30000010091406024291400000500', '../DaneDICOM/DICOMNativeAnonymized/1.3.12.2.1107.5.1.4.53642.30000010121407173196800000064/1.3.12.2.1107.5.1.4.53642.30000010121407064312500004465', '../DaneDICOM/DICOMNativeAnonymized/1.3.12.2.1107.5.1.4.53642.30000010122807191519000000079/1.3.12.2.1107.5.1.4.53642.30000010122807000186600005755', '../DaneDICOM/DICOMNativeAnonymized/1.3.12.2.1107.5.1.4.53642.30000011020807151056200000013/1.3.12.2.1107.5.1.4.53642.30000011020806384268700000583', '../DaneDICOM/DICOMNativeAnonymized/1.3.12.2.1107.5.1.4.53642.30000011070308214081200000006/1.3.12.2.1107.5.1.4.53642.30000011070306111167100000532', '../DaneDICOM/DICOMNativeAnonymized/1.3.12.2.1107.5.1.4.57187.30000008013106524729600000058/1.3.12.2.1107.5.1.4.57187.30000008013106543548400018725', '../DaneDICOM/DICOMNativeAnonymized/1.3.12.2.1107.5.1.4.69587.30000014032509223437500000031/1.3.12.2.1107.5.1.4.69587.30000014032509232340600001319', '../DaneDICOM/DICOMNativeAnonymized/1.3.6.1.4.1.22410.149989276229517180796483690541553517225/1.2.840.113619.2.55.3.2831207684.710.1403934233.190', '../DaneDICOM/DICOMNativeAnonymized/1.3.6.1.4.1.22410.271485704350217776542552604958484883735/1.2.840.113619.2.337.3.17432986.79.1392458950.917', '../DaneDICOM/DICOMNativeAnonymized/1.3.6.1.4.1.22410.276605934926260786951672039830332446370/1.2.840.113619.2.55.3.2831173376.31.1385104955.161', '../DaneDICOM/DICOMNativeAnonymized/1.3.6.1.4.1.22410.30189389517928786591141594978878521449/1.3.12.2.1107.5.1.4.49316.30000015031806595039000028715', '../DaneDICOM/DICOMNativeAnonymized/1.3.6.1.4.1.22410.328349394178020226317615307164607445102/1.2.840.113619.2.55.3.2831207684.591.1432677396.554', '../DaneDICOM/DICOMNativeAnonymized/2.16.840.1.113662.2.1.1505.11444.1081117.1092640/2.16.840.1.113662.2.1.2505.21444.2081117.2092640.249333.20']\n"
     ]
    }
   ],
   "source": [
    "def get_list_patients_paths(input_folder):\n",
    "    list_patients_paths = []\n",
    "    for element in os.listdir(input_folder):\n",
    "        patient_parent_folder = os.path.join(INPUT_FOLDER, element)\n",
    "        patient_target_folder = get_patient_target_folder(patient_parent_folder)\n",
    "        list_patients_paths.append(patient_target_folder)\n",
    "        # print(patient_target_folder)\n",
    "    return list_patients_paths\n",
    "\n",
    "list_patients_paths = get_list_patients_paths(INPUT_FOLDER)\n",
    "print(list_patients_paths)\n"
   ]
  },
  {
   "cell_type": "code",
   "execution_count": 4,
   "metadata": {},
   "outputs": [],
   "source": [
    "# source: https://www.kaggle.com/gzuidhof/data-science-bowl-2017/full-preprocessing-tutorial\n",
    "# Load the scans in given folder path\n",
    "def load_scan(path):\n",
    "    slices = [pydicom.read_file(path + '/' + s) for s in os.listdir(path)]\n",
    "    slices.sort(key = lambda x: int(x.InstanceNumber))\n",
    "    try:\n",
    "        slice_thickness = np.abs(slices[0].ImagePositionPatient[2] - slices[1].ImagePositionPatient[2])\n",
    "    except:\n",
    "        slice_thickness = np.abs(slices[0].SliceLocation - slices[1].SliceLocation)\n",
    "        \n",
    "    for s in slices:\n",
    "        s.SliceThickness = slice_thickness\n",
    "        \n",
    "    return slices"
   ]
  },
  {
   "cell_type": "code",
   "execution_count": 5,
   "metadata": {},
   "outputs": [],
   "source": [
    "# source: https://www.kaggle.com/gzuidhof/data-science-bowl-2017/full-preprocessing-tutorial\n",
    "def get_pixels_hu(scans):\n",
    "    image = np.stack([s.pixel_array for s in scans])\n",
    "    # Convert to int16 (from sometimes int16), \n",
    "    # should be possible as values should always be low enough (<32k)\n",
    "    image = image.astype(np.int16)\n",
    "\n",
    "    # Set outside-of-scan pixels to 0\n",
    "    # The intercept is usually -1024, so air is approximately 0\n",
    "    image[image == -2000] = 0\n",
    "    \n",
    "    # Convert to Hounsfield units (HU)\n",
    "    intercept = scans[0].RescaleIntercept\n",
    "    slope = scans[0].RescaleSlope\n",
    "    \n",
    "    if slope != 1:\n",
    "        image = slope * image.astype(np.float64)\n",
    "        image = image.astype(np.int16)\n",
    "        \n",
    "    image += np.int16(intercept)\n",
    "    \n",
    "    return np.array(image, dtype=np.int16)"
   ]
  },
  {
   "cell_type": "code",
   "execution_count": 6,
   "metadata": {},
   "outputs": [
    {
     "ename": "OSError",
     "evalue": "cannot identify image file <_io.BytesIO object at 0x00000159A4B6C168>",
     "output_type": "error",
     "traceback": [
      "\u001b[1;31m---------------------------------------------------------------------------\u001b[0m",
      "\u001b[1;31mOSError\u001b[0m                                   Traceback (most recent call last)",
      "\u001b[1;32m<ipython-input-6-4f0d74802704>\u001b[0m in \u001b[0;36m<module>\u001b[1;34m\u001b[0m\n\u001b[0;32m      3\u001b[0m \u001b[0msample_patient\u001b[0m \u001b[1;33m=\u001b[0m \u001b[1;34m'C:/Users/User/Documents/DaneDICOM/DICOMNativeAnonymized/1.2.124.113532.12.10699.12127.20110321.143718.22145985/1.3.12.2.1107.5.1.4.53642.30000011032114095153100000518'\u001b[0m\u001b[1;33m\u001b[0m\u001b[1;33m\u001b[0m\u001b[0m\n\u001b[0;32m      4\u001b[0m \u001b[0mfirst_patient\u001b[0m \u001b[1;33m=\u001b[0m \u001b[0mload_scan\u001b[0m\u001b[1;33m(\u001b[0m\u001b[0msample_patient\u001b[0m\u001b[1;33m)\u001b[0m\u001b[1;33m\u001b[0m\u001b[1;33m\u001b[0m\u001b[0m\n\u001b[1;32m----> 5\u001b[1;33m \u001b[0mfirst_patient_pixels\u001b[0m \u001b[1;33m=\u001b[0m \u001b[0mget_pixels_hu\u001b[0m\u001b[1;33m(\u001b[0m\u001b[0mfirst_patient\u001b[0m\u001b[1;33m)\u001b[0m\u001b[1;33m\u001b[0m\u001b[1;33m\u001b[0m\u001b[0m\n\u001b[0m\u001b[0;32m      6\u001b[0m \u001b[0mplt\u001b[0m\u001b[1;33m.\u001b[0m\u001b[0mhist\u001b[0m\u001b[1;33m(\u001b[0m\u001b[0mfirst_patient_pixels\u001b[0m\u001b[1;33m.\u001b[0m\u001b[0mflatten\u001b[0m\u001b[1;33m(\u001b[0m\u001b[1;33m)\u001b[0m\u001b[1;33m,\u001b[0m \u001b[0mbins\u001b[0m\u001b[1;33m=\u001b[0m\u001b[1;36m80\u001b[0m\u001b[1;33m,\u001b[0m \u001b[0mcolor\u001b[0m\u001b[1;33m=\u001b[0m\u001b[1;34m'c'\u001b[0m\u001b[1;33m)\u001b[0m\u001b[1;33m\u001b[0m\u001b[1;33m\u001b[0m\u001b[0m\n\u001b[0;32m      7\u001b[0m \u001b[0mplt\u001b[0m\u001b[1;33m.\u001b[0m\u001b[0mxlabel\u001b[0m\u001b[1;33m(\u001b[0m\u001b[1;34m\"Hounsfield Units (HU)\"\u001b[0m\u001b[1;33m)\u001b[0m\u001b[1;33m\u001b[0m\u001b[1;33m\u001b[0m\u001b[0m\n",
      "\u001b[1;32m<ipython-input-5-75fe4dd406fa>\u001b[0m in \u001b[0;36mget_pixels_hu\u001b[1;34m(scans)\u001b[0m\n\u001b[0;32m      1\u001b[0m \u001b[1;31m# source: https://www.kaggle.com/gzuidhof/data-science-bowl-2017/full-preprocessing-tutorial\u001b[0m\u001b[1;33m\u001b[0m\u001b[1;33m\u001b[0m\u001b[1;33m\u001b[0m\u001b[0m\n\u001b[0;32m      2\u001b[0m \u001b[1;32mdef\u001b[0m \u001b[0mget_pixels_hu\u001b[0m\u001b[1;33m(\u001b[0m\u001b[0mscans\u001b[0m\u001b[1;33m)\u001b[0m\u001b[1;33m:\u001b[0m\u001b[1;33m\u001b[0m\u001b[1;33m\u001b[0m\u001b[0m\n\u001b[1;32m----> 3\u001b[1;33m     \u001b[0mimage\u001b[0m \u001b[1;33m=\u001b[0m \u001b[0mnp\u001b[0m\u001b[1;33m.\u001b[0m\u001b[0mstack\u001b[0m\u001b[1;33m(\u001b[0m\u001b[1;33m[\u001b[0m\u001b[0ms\u001b[0m\u001b[1;33m.\u001b[0m\u001b[0mpixel_array\u001b[0m \u001b[1;32mfor\u001b[0m \u001b[0ms\u001b[0m \u001b[1;32min\u001b[0m \u001b[0mscans\u001b[0m\u001b[1;33m]\u001b[0m\u001b[1;33m)\u001b[0m\u001b[1;33m\u001b[0m\u001b[1;33m\u001b[0m\u001b[0m\n\u001b[0m\u001b[0;32m      4\u001b[0m     \u001b[1;31m# Convert to int16 (from sometimes int16),\u001b[0m\u001b[1;33m\u001b[0m\u001b[1;33m\u001b[0m\u001b[1;33m\u001b[0m\u001b[0m\n\u001b[0;32m      5\u001b[0m     \u001b[1;31m# should be possible as values should always be low enough (<32k)\u001b[0m\u001b[1;33m\u001b[0m\u001b[1;33m\u001b[0m\u001b[1;33m\u001b[0m\u001b[0m\n",
      "\u001b[1;32m<ipython-input-5-75fe4dd406fa>\u001b[0m in \u001b[0;36m<listcomp>\u001b[1;34m(.0)\u001b[0m\n\u001b[0;32m      1\u001b[0m \u001b[1;31m# source: https://www.kaggle.com/gzuidhof/data-science-bowl-2017/full-preprocessing-tutorial\u001b[0m\u001b[1;33m\u001b[0m\u001b[1;33m\u001b[0m\u001b[1;33m\u001b[0m\u001b[0m\n\u001b[0;32m      2\u001b[0m \u001b[1;32mdef\u001b[0m \u001b[0mget_pixels_hu\u001b[0m\u001b[1;33m(\u001b[0m\u001b[0mscans\u001b[0m\u001b[1;33m)\u001b[0m\u001b[1;33m:\u001b[0m\u001b[1;33m\u001b[0m\u001b[1;33m\u001b[0m\u001b[0m\n\u001b[1;32m----> 3\u001b[1;33m     \u001b[0mimage\u001b[0m \u001b[1;33m=\u001b[0m \u001b[0mnp\u001b[0m\u001b[1;33m.\u001b[0m\u001b[0mstack\u001b[0m\u001b[1;33m(\u001b[0m\u001b[1;33m[\u001b[0m\u001b[0ms\u001b[0m\u001b[1;33m.\u001b[0m\u001b[0mpixel_array\u001b[0m \u001b[1;32mfor\u001b[0m \u001b[0ms\u001b[0m \u001b[1;32min\u001b[0m \u001b[0mscans\u001b[0m\u001b[1;33m]\u001b[0m\u001b[1;33m)\u001b[0m\u001b[1;33m\u001b[0m\u001b[1;33m\u001b[0m\u001b[0m\n\u001b[0m\u001b[0;32m      4\u001b[0m     \u001b[1;31m# Convert to int16 (from sometimes int16),\u001b[0m\u001b[1;33m\u001b[0m\u001b[1;33m\u001b[0m\u001b[1;33m\u001b[0m\u001b[0m\n\u001b[0;32m      5\u001b[0m     \u001b[1;31m# should be possible as values should always be low enough (<32k)\u001b[0m\u001b[1;33m\u001b[0m\u001b[1;33m\u001b[0m\u001b[1;33m\u001b[0m\u001b[0m\n",
      "\u001b[1;32m~\\Anaconda3\\lib\\site-packages\\pydicom\\dataset.py\u001b[0m in \u001b[0;36mpixel_array\u001b[1;34m(self)\u001b[0m\n\u001b[0;32m   1621\u001b[0m             \u001b[1;33m:\u001b[0m\u001b[1;32mclass\u001b[0m\u001b[1;33m:\u001b[0m\u001b[0;31m`\u001b[0m\u001b[0mnumpy\u001b[0m\u001b[1;33m.\u001b[0m\u001b[0mndarray\u001b[0m\u001b[0;31m`\u001b[0m\u001b[1;33m.\u001b[0m\u001b[1;33m\u001b[0m\u001b[1;33m\u001b[0m\u001b[0m\n\u001b[0;32m   1622\u001b[0m         \"\"\"\n\u001b[1;32m-> 1623\u001b[1;33m         \u001b[0mself\u001b[0m\u001b[1;33m.\u001b[0m\u001b[0mconvert_pixel_data\u001b[0m\u001b[1;33m(\u001b[0m\u001b[1;33m)\u001b[0m\u001b[1;33m\u001b[0m\u001b[1;33m\u001b[0m\u001b[0m\n\u001b[0m\u001b[0;32m   1624\u001b[0m         \u001b[1;32mreturn\u001b[0m \u001b[0mself\u001b[0m\u001b[1;33m.\u001b[0m\u001b[0m_pixel_array\u001b[0m\u001b[1;33m\u001b[0m\u001b[1;33m\u001b[0m\u001b[0m\n\u001b[0;32m   1625\u001b[0m \u001b[1;33m\u001b[0m\u001b[0m\n",
      "\u001b[1;32m~\\Anaconda3\\lib\\site-packages\\pydicom\\dataset.py\u001b[0m in \u001b[0;36mconvert_pixel_data\u001b[1;34m(self, handler_name)\u001b[0m\n\u001b[0;32m   1330\u001b[0m             \u001b[0mself\u001b[0m\u001b[1;33m.\u001b[0m\u001b[0m_convert_pixel_data_using_handler\u001b[0m\u001b[1;33m(\u001b[0m\u001b[0mhandler_name\u001b[0m\u001b[1;33m)\u001b[0m\u001b[1;33m\u001b[0m\u001b[1;33m\u001b[0m\u001b[0m\n\u001b[0;32m   1331\u001b[0m         \u001b[1;32melse\u001b[0m\u001b[1;33m:\u001b[0m\u001b[1;33m\u001b[0m\u001b[1;33m\u001b[0m\u001b[0m\n\u001b[1;32m-> 1332\u001b[1;33m             \u001b[0mself\u001b[0m\u001b[1;33m.\u001b[0m\u001b[0m_convert_pixel_data_without_handler\u001b[0m\u001b[1;33m(\u001b[0m\u001b[1;33m)\u001b[0m\u001b[1;33m\u001b[0m\u001b[1;33m\u001b[0m\u001b[0m\n\u001b[0m\u001b[0;32m   1333\u001b[0m \u001b[1;33m\u001b[0m\u001b[0m\n\u001b[0;32m   1334\u001b[0m     \u001b[1;32mdef\u001b[0m \u001b[0m_convert_pixel_data_using_handler\u001b[0m\u001b[1;33m(\u001b[0m\u001b[0mself\u001b[0m\u001b[1;33m,\u001b[0m \u001b[0mname\u001b[0m\u001b[1;33m)\u001b[0m\u001b[1;33m:\u001b[0m\u001b[1;33m\u001b[0m\u001b[1;33m\u001b[0m\u001b[0m\n",
      "\u001b[1;32m~\\Anaconda3\\lib\\site-packages\\pydicom\\dataset.py\u001b[0m in \u001b[0;36m_convert_pixel_data_without_handler\u001b[1;34m(self)\u001b[0m\n\u001b[0;32m   1440\u001b[0m             \u001b[1;33m.\u001b[0m\u001b[0mformat\u001b[0m\u001b[1;33m(\u001b[0m\u001b[1;34m\", \"\u001b[0m\u001b[1;33m.\u001b[0m\u001b[0mjoin\u001b[0m\u001b[1;33m(\u001b[0m\u001b[1;33m[\u001b[0m\u001b[0mstr\u001b[0m\u001b[1;33m(\u001b[0m\u001b[0mhh\u001b[0m\u001b[1;33m)\u001b[0m \u001b[1;32mfor\u001b[0m \u001b[0mhh\u001b[0m \u001b[1;32min\u001b[0m \u001b[0mavailable_handlers\u001b[0m\u001b[1;33m]\u001b[0m\u001b[1;33m)\u001b[0m\u001b[1;33m)\u001b[0m\u001b[1;33m\u001b[0m\u001b[1;33m\u001b[0m\u001b[0m\n\u001b[0;32m   1441\u001b[0m         )\n\u001b[1;32m-> 1442\u001b[1;33m         \u001b[1;32mraise\u001b[0m \u001b[0mlast_exception\u001b[0m\u001b[1;33m\u001b[0m\u001b[1;33m\u001b[0m\u001b[0m\n\u001b[0m\u001b[0;32m   1443\u001b[0m \u001b[1;33m\u001b[0m\u001b[0m\n\u001b[0;32m   1444\u001b[0m     \u001b[1;32mdef\u001b[0m \u001b[0m_do_pixel_data_conversion\u001b[0m\u001b[1;33m(\u001b[0m\u001b[0mself\u001b[0m\u001b[1;33m,\u001b[0m \u001b[0mhandler\u001b[0m\u001b[1;33m)\u001b[0m\u001b[1;33m:\u001b[0m\u001b[1;33m\u001b[0m\u001b[1;33m\u001b[0m\u001b[0m\n",
      "\u001b[1;32m~\\Anaconda3\\lib\\site-packages\\pydicom\\dataset.py\u001b[0m in \u001b[0;36m_convert_pixel_data_without_handler\u001b[1;34m(self)\u001b[0m\n\u001b[0;32m   1420\u001b[0m         \u001b[1;32mfor\u001b[0m \u001b[0mhandler\u001b[0m \u001b[1;32min\u001b[0m \u001b[0mavailable_handlers\u001b[0m\u001b[1;33m:\u001b[0m\u001b[1;33m\u001b[0m\u001b[1;33m\u001b[0m\u001b[0m\n\u001b[0;32m   1421\u001b[0m             \u001b[1;32mtry\u001b[0m\u001b[1;33m:\u001b[0m\u001b[1;33m\u001b[0m\u001b[1;33m\u001b[0m\u001b[0m\n\u001b[1;32m-> 1422\u001b[1;33m                 \u001b[0mself\u001b[0m\u001b[1;33m.\u001b[0m\u001b[0m_do_pixel_data_conversion\u001b[0m\u001b[1;33m(\u001b[0m\u001b[0mhandler\u001b[0m\u001b[1;33m)\u001b[0m\u001b[1;33m\u001b[0m\u001b[1;33m\u001b[0m\u001b[0m\n\u001b[0m\u001b[0;32m   1423\u001b[0m                 \u001b[1;32mreturn\u001b[0m\u001b[1;33m\u001b[0m\u001b[1;33m\u001b[0m\u001b[0m\n\u001b[0;32m   1424\u001b[0m             \u001b[1;32mexcept\u001b[0m \u001b[0mException\u001b[0m \u001b[1;32mas\u001b[0m \u001b[0mexc\u001b[0m\u001b[1;33m:\u001b[0m\u001b[1;33m\u001b[0m\u001b[1;33m\u001b[0m\u001b[0m\n",
      "\u001b[1;32m~\\Anaconda3\\lib\\site-packages\\pydicom\\dataset.py\u001b[0m in \u001b[0;36m_do_pixel_data_conversion\u001b[1;34m(self, handler)\u001b[0m\n\u001b[0;32m   1447\u001b[0m         \u001b[1;31m# Use the handler to get a 1D numpy array of the pixel data\u001b[0m\u001b[1;33m\u001b[0m\u001b[1;33m\u001b[0m\u001b[1;33m\u001b[0m\u001b[0m\n\u001b[0;32m   1448\u001b[0m         \u001b[1;31m# Will raise an exception if no pixel data element\u001b[0m\u001b[1;33m\u001b[0m\u001b[1;33m\u001b[0m\u001b[1;33m\u001b[0m\u001b[0m\n\u001b[1;32m-> 1449\u001b[1;33m         \u001b[0marr\u001b[0m \u001b[1;33m=\u001b[0m \u001b[0mhandler\u001b[0m\u001b[1;33m.\u001b[0m\u001b[0mget_pixeldata\u001b[0m\u001b[1;33m(\u001b[0m\u001b[0mself\u001b[0m\u001b[1;33m)\u001b[0m\u001b[1;33m\u001b[0m\u001b[1;33m\u001b[0m\u001b[0m\n\u001b[0m\u001b[0;32m   1450\u001b[0m         \u001b[0mself\u001b[0m\u001b[1;33m.\u001b[0m\u001b[0m_pixel_array\u001b[0m \u001b[1;33m=\u001b[0m \u001b[0mreshape_pixel_array\u001b[0m\u001b[1;33m(\u001b[0m\u001b[0mself\u001b[0m\u001b[1;33m,\u001b[0m \u001b[0marr\u001b[0m\u001b[1;33m)\u001b[0m\u001b[1;33m\u001b[0m\u001b[1;33m\u001b[0m\u001b[0m\n\u001b[0;32m   1451\u001b[0m \u001b[1;33m\u001b[0m\u001b[0m\n",
      "\u001b[1;32m~\\Anaconda3\\lib\\site-packages\\pydicom\\pixel_data_handlers\\pillow_handler.py\u001b[0m in \u001b[0;36mget_pixeldata\u001b[1;34m(ds)\u001b[0m\n\u001b[0;32m    165\u001b[0m         \u001b[1;31m# single compressed frame\u001b[0m\u001b[1;33m\u001b[0m\u001b[1;33m\u001b[0m\u001b[1;33m\u001b[0m\u001b[0m\n\u001b[0;32m    166\u001b[0m         \u001b[0mpixel_data\u001b[0m \u001b[1;33m=\u001b[0m \u001b[0mdefragment_data\u001b[0m\u001b[1;33m(\u001b[0m\u001b[0mds\u001b[0m\u001b[1;33m.\u001b[0m\u001b[0mPixelData\u001b[0m\u001b[1;33m)\u001b[0m\u001b[1;33m\u001b[0m\u001b[1;33m\u001b[0m\u001b[0m\n\u001b[1;32m--> 167\u001b[1;33m         \u001b[0mim\u001b[0m \u001b[1;33m=\u001b[0m \u001b[0mImage\u001b[0m\u001b[1;33m.\u001b[0m\u001b[0mopen\u001b[0m\u001b[1;33m(\u001b[0m\u001b[0mio\u001b[0m\u001b[1;33m.\u001b[0m\u001b[0mBytesIO\u001b[0m\u001b[1;33m(\u001b[0m\u001b[0mpixel_data\u001b[0m\u001b[1;33m)\u001b[0m\u001b[1;33m)\u001b[0m\u001b[1;33m\u001b[0m\u001b[1;33m\u001b[0m\u001b[0m\n\u001b[0m\u001b[0;32m    168\u001b[0m         \u001b[1;32mif\u001b[0m \u001b[1;34m'YBR'\u001b[0m \u001b[1;32min\u001b[0m \u001b[0mds\u001b[0m\u001b[1;33m.\u001b[0m\u001b[0mPhotometricInterpretation\u001b[0m\u001b[1;33m:\u001b[0m\u001b[1;33m\u001b[0m\u001b[1;33m\u001b[0m\u001b[0m\n\u001b[0;32m    169\u001b[0m             \u001b[0mim\u001b[0m\u001b[1;33m.\u001b[0m\u001b[0mdraft\u001b[0m\u001b[1;33m(\u001b[0m\u001b[1;34m'YCbCr'\u001b[0m\u001b[1;33m,\u001b[0m \u001b[1;33m(\u001b[0m\u001b[0mds\u001b[0m\u001b[1;33m.\u001b[0m\u001b[0mRows\u001b[0m\u001b[1;33m,\u001b[0m \u001b[0mds\u001b[0m\u001b[1;33m.\u001b[0m\u001b[0mColumns\u001b[0m\u001b[1;33m)\u001b[0m\u001b[1;33m)\u001b[0m\u001b[1;33m\u001b[0m\u001b[1;33m\u001b[0m\u001b[0m\n",
      "\u001b[1;32m~\\Anaconda3\\lib\\site-packages\\PIL\\Image.py\u001b[0m in \u001b[0;36mopen\u001b[1;34m(fp, mode)\u001b[0m\n\u001b[0;32m   2816\u001b[0m     \u001b[1;32mfor\u001b[0m \u001b[0mmessage\u001b[0m \u001b[1;32min\u001b[0m \u001b[0maccept_warnings\u001b[0m\u001b[1;33m:\u001b[0m\u001b[1;33m\u001b[0m\u001b[1;33m\u001b[0m\u001b[0m\n\u001b[0;32m   2817\u001b[0m         \u001b[0mwarnings\u001b[0m\u001b[1;33m.\u001b[0m\u001b[0mwarn\u001b[0m\u001b[1;33m(\u001b[0m\u001b[0mmessage\u001b[0m\u001b[1;33m)\u001b[0m\u001b[1;33m\u001b[0m\u001b[1;33m\u001b[0m\u001b[0m\n\u001b[1;32m-> 2818\u001b[1;33m     \u001b[1;32mraise\u001b[0m \u001b[0mIOError\u001b[0m\u001b[1;33m(\u001b[0m\u001b[1;34m\"cannot identify image file %r\"\u001b[0m \u001b[1;33m%\u001b[0m \u001b[1;33m(\u001b[0m\u001b[0mfilename\u001b[0m \u001b[1;32mif\u001b[0m \u001b[0mfilename\u001b[0m \u001b[1;32melse\u001b[0m \u001b[0mfp\u001b[0m\u001b[1;33m)\u001b[0m\u001b[1;33m)\u001b[0m\u001b[1;33m\u001b[0m\u001b[1;33m\u001b[0m\u001b[0m\n\u001b[0m\u001b[0;32m   2819\u001b[0m \u001b[1;33m\u001b[0m\u001b[0m\n\u001b[0;32m   2820\u001b[0m \u001b[1;33m\u001b[0m\u001b[0m\n",
      "\u001b[1;31mOSError\u001b[0m: cannot identify image file <_io.BytesIO object at 0x00000159A4B6C168>"
     ]
    }
   ],
   "source": [
    "sample_patient = list_patients_paths[1]\n",
    "sample_patient = '../DaneDICOM/DICOMNativeAnonymized/1.2.124.113532.12.10699.12127.20110321.143718.22145985/1.3.12.2.1107.5.1.4.53642.30000011032114095153100000518'\n",
    "sample_patient = 'C:/Users/User/Documents/DaneDICOM/DICOMNativeAnonymized/1.2.124.113532.12.10699.12127.20110321.143718.22145985/1.3.12.2.1107.5.1.4.53642.30000011032114095153100000518'\n",
    "first_patient = load_scan(sample_patient)\n",
    "first_patient_pixels = get_pixels_hu(first_patient)\n",
    "plt.hist(first_patient_pixels.flatten(), bins=80, color='c')\n",
    "plt.xlabel(\"Hounsfield Units (HU)\")\n",
    "plt.ylabel(\"Frequency\")\n",
    "plt.show()\n",
    "\n",
    "# Show some slice in the middle\n",
    "plt.imshow(first_patient_pixels[0], cmap=plt.cm.gray)\n",
    "plt.show()"
   ]
  },
  {
   "cell_type": "code",
   "execution_count": 31,
   "metadata": {},
   "outputs": [
    {
     "name": "stdout",
     "output_type": "stream",
     "text": [
      "(512, 512)\n",
      "Pixel array not found\n",
      "Pixel array not found\n",
      "Pixel array not found\n",
      "Pixel array not found\n",
      "Pixel array not found\n",
      "Pixel array not found\n",
      "Pixel array not found\n",
      "Pixel array not found\n",
      "Pixel array not found\n",
      "Pixel array not found\n",
      "Pixel array not found\n",
      "Pixel array not found\n",
      "Pixel array not found\n",
      "Pixel array not found\n",
      "Pixel array not found\n",
      "Pixel array not found\n",
      "Pixel array not found\n",
      "Pixel array not found\n",
      "Pixel array not found\n",
      "Pixel array not found\n",
      "Pixel array not found\n",
      "Pixel array not found\n",
      "Pixel array not found\n",
      "Pixel array not found\n",
      "Pixel array not found\n",
      "Pixel array not found\n",
      "Pixel array not found\n",
      "Pixel array not found\n",
      "Pixel array not found\n",
      "Pixel array not found\n",
      "Pixel array not found\n",
      "Pixel array not found\n",
      "Pixel array not found\n",
      "Pixel array not found\n",
      "Pixel array not found\n",
      "Pixel array not found\n",
      "Pixel array not found\n",
      "Pixel array not found\n",
      "Pixel array not found\n",
      "Pixel array not found\n",
      "Pixel array not found\n",
      "Pixel array not found\n",
      "Pixel array not found\n",
      "Pixel array not found\n",
      "Pixel array not found\n",
      "Pixel array not found\n",
      "Pixel array not found\n",
      "Pixel array not found\n",
      "Pixel array not found\n",
      "Pixel array not found\n",
      "Pixel array not found\n",
      "Pixel array not found\n",
      "Pixel array not found\n",
      "Pixel array not found\n",
      "Pixel array not found\n",
      "Pixel array not found\n",
      "Pixel array not found\n",
      "Pixel array not found\n",
      "Pixel array not found\n",
      "Pixel array not found\n",
      "Pixel array not found\n",
      "Pixel array not found\n",
      "Pixel array not found\n",
      "Pixel array not found\n",
      "Pixel array not found\n",
      "Pixel array not found\n",
      "Pixel array not found\n",
      "Pixel array not found\n",
      "Pixel array not found\n",
      "Pixel array not found\n",
      "Pixel array not found\n",
      "Pixel array not found\n",
      "Pixel array not found\n"
     ]
    },
    {
     "ename": "FileNotFoundError",
     "evalue": "[Errno 2] No such file or directory: '../DaneDICOM/DICOMNativeAnonymized/1.2.392.200036.9116.2.2.2.1762658420.1203904329.336701/1.2.392.200036.9116.2.2.2.1762658420.1203904462.52110/1.2.392.200036.9116.2.2.2.1762658420.1203904462.52110_0002_000001_15526461190025.dcm'",
     "output_type": "error",
     "traceback": [
      "\u001b[1;31m---------------------------------------------------------------------------\u001b[0m",
      "\u001b[1;31mFileNotFoundError\u001b[0m                         Traceback (most recent call last)",
      "\u001b[1;32m<ipython-input-31-7a3a0a35e592>\u001b[0m in \u001b[0;36m<module>\u001b[1;34m\u001b[0m\n\u001b[0;32m      2\u001b[0m \u001b[1;32mfor\u001b[0m \u001b[0mpatient_path\u001b[0m \u001b[1;32min\u001b[0m \u001b[0mlist_patients_paths\u001b[0m\u001b[1;33m:\u001b[0m\u001b[1;33m\u001b[0m\u001b[1;33m\u001b[0m\u001b[0m\n\u001b[0;32m      3\u001b[0m     \u001b[0mslices\u001b[0m \u001b[1;33m=\u001b[0m \u001b[1;33m[\u001b[0m\u001b[1;33m]\u001b[0m\u001b[1;33m\u001b[0m\u001b[1;33m\u001b[0m\u001b[0m\n\u001b[1;32m----> 4\u001b[1;33m     \u001b[0mslices\u001b[0m \u001b[1;33m=\u001b[0m \u001b[1;33m[\u001b[0m\u001b[0mpydicom\u001b[0m\u001b[1;33m.\u001b[0m\u001b[0mread_file\u001b[0m\u001b[1;33m(\u001b[0m\u001b[0mpatient_path\u001b[0m \u001b[1;33m+\u001b[0m \u001b[1;34m'/'\u001b[0m \u001b[1;33m+\u001b[0m \u001b[0ms\u001b[0m\u001b[1;33m)\u001b[0m \u001b[1;32mfor\u001b[0m \u001b[0ms\u001b[0m \u001b[1;32min\u001b[0m \u001b[0mos\u001b[0m\u001b[1;33m.\u001b[0m\u001b[0mlistdir\u001b[0m\u001b[1;33m(\u001b[0m\u001b[0mpatient_path\u001b[0m\u001b[1;33m)\u001b[0m\u001b[1;33m]\u001b[0m\u001b[1;33m\u001b[0m\u001b[1;33m\u001b[0m\u001b[0m\n\u001b[0m\u001b[0;32m      5\u001b[0m     \u001b[0mslices\u001b[0m\u001b[1;33m.\u001b[0m\u001b[0msort\u001b[0m\u001b[1;33m(\u001b[0m\u001b[0mkey\u001b[0m \u001b[1;33m=\u001b[0m \u001b[1;32mlambda\u001b[0m \u001b[0mx\u001b[0m\u001b[1;33m:\u001b[0m \u001b[0mint\u001b[0m\u001b[1;33m(\u001b[0m\u001b[0mx\u001b[0m\u001b[1;33m.\u001b[0m\u001b[0mImagePositionPatient\u001b[0m\u001b[1;33m[\u001b[0m\u001b[1;36m2\u001b[0m\u001b[1;33m]\u001b[0m\u001b[1;33m)\u001b[0m\u001b[1;33m)\u001b[0m\u001b[1;33m\u001b[0m\u001b[1;33m\u001b[0m\u001b[0m\n\u001b[0;32m      6\u001b[0m     \u001b[1;32mtry\u001b[0m\u001b[1;33m:\u001b[0m\u001b[1;33m\u001b[0m\u001b[1;33m\u001b[0m\u001b[0m\n",
      "\u001b[1;32m<ipython-input-31-7a3a0a35e592>\u001b[0m in \u001b[0;36m<listcomp>\u001b[1;34m(.0)\u001b[0m\n\u001b[0;32m      2\u001b[0m \u001b[1;32mfor\u001b[0m \u001b[0mpatient_path\u001b[0m \u001b[1;32min\u001b[0m \u001b[0mlist_patients_paths\u001b[0m\u001b[1;33m:\u001b[0m\u001b[1;33m\u001b[0m\u001b[1;33m\u001b[0m\u001b[0m\n\u001b[0;32m      3\u001b[0m     \u001b[0mslices\u001b[0m \u001b[1;33m=\u001b[0m \u001b[1;33m[\u001b[0m\u001b[1;33m]\u001b[0m\u001b[1;33m\u001b[0m\u001b[1;33m\u001b[0m\u001b[0m\n\u001b[1;32m----> 4\u001b[1;33m     \u001b[0mslices\u001b[0m \u001b[1;33m=\u001b[0m \u001b[1;33m[\u001b[0m\u001b[0mpydicom\u001b[0m\u001b[1;33m.\u001b[0m\u001b[0mread_file\u001b[0m\u001b[1;33m(\u001b[0m\u001b[0mpatient_path\u001b[0m \u001b[1;33m+\u001b[0m \u001b[1;34m'/'\u001b[0m \u001b[1;33m+\u001b[0m \u001b[0ms\u001b[0m\u001b[1;33m)\u001b[0m \u001b[1;32mfor\u001b[0m \u001b[0ms\u001b[0m \u001b[1;32min\u001b[0m \u001b[0mos\u001b[0m\u001b[1;33m.\u001b[0m\u001b[0mlistdir\u001b[0m\u001b[1;33m(\u001b[0m\u001b[0mpatient_path\u001b[0m\u001b[1;33m)\u001b[0m\u001b[1;33m]\u001b[0m\u001b[1;33m\u001b[0m\u001b[1;33m\u001b[0m\u001b[0m\n\u001b[0m\u001b[0;32m      5\u001b[0m     \u001b[0mslices\u001b[0m\u001b[1;33m.\u001b[0m\u001b[0msort\u001b[0m\u001b[1;33m(\u001b[0m\u001b[0mkey\u001b[0m \u001b[1;33m=\u001b[0m \u001b[1;32mlambda\u001b[0m \u001b[0mx\u001b[0m\u001b[1;33m:\u001b[0m \u001b[0mint\u001b[0m\u001b[1;33m(\u001b[0m\u001b[0mx\u001b[0m\u001b[1;33m.\u001b[0m\u001b[0mImagePositionPatient\u001b[0m\u001b[1;33m[\u001b[0m\u001b[1;36m2\u001b[0m\u001b[1;33m]\u001b[0m\u001b[1;33m)\u001b[0m\u001b[1;33m)\u001b[0m\u001b[1;33m\u001b[0m\u001b[1;33m\u001b[0m\u001b[0m\n\u001b[0;32m      6\u001b[0m     \u001b[1;32mtry\u001b[0m\u001b[1;33m:\u001b[0m\u001b[1;33m\u001b[0m\u001b[1;33m\u001b[0m\u001b[0m\n",
      "\u001b[1;32m~\\Anaconda3\\lib\\site-packages\\pydicom\\filereader.py\u001b[0m in \u001b[0;36mdcmread\u001b[1;34m(fp, defer_size, stop_before_pixels, force, specific_tags)\u001b[0m\n\u001b[0;32m    853\u001b[0m         \u001b[1;32mexcept\u001b[0m \u001b[0mException\u001b[0m\u001b[1;33m:\u001b[0m\u001b[1;33m\u001b[0m\u001b[1;33m\u001b[0m\u001b[0m\n\u001b[0;32m    854\u001b[0m             \u001b[0mlogger\u001b[0m\u001b[1;33m.\u001b[0m\u001b[0mdebug\u001b[0m\u001b[1;33m(\u001b[0m\u001b[1;34m\"Reading file '{0}'\"\u001b[0m\u001b[1;33m.\u001b[0m\u001b[0mformat\u001b[0m\u001b[1;33m(\u001b[0m\u001b[0mfp\u001b[0m\u001b[1;33m)\u001b[0m\u001b[1;33m)\u001b[0m\u001b[1;33m\u001b[0m\u001b[1;33m\u001b[0m\u001b[0m\n\u001b[1;32m--> 855\u001b[1;33m         \u001b[0mfp\u001b[0m \u001b[1;33m=\u001b[0m \u001b[0mopen\u001b[0m\u001b[1;33m(\u001b[0m\u001b[0mfp\u001b[0m\u001b[1;33m,\u001b[0m \u001b[1;34m'rb'\u001b[0m\u001b[1;33m)\u001b[0m\u001b[1;33m\u001b[0m\u001b[1;33m\u001b[0m\u001b[0m\n\u001b[0m\u001b[0;32m    856\u001b[0m \u001b[1;33m\u001b[0m\u001b[0m\n\u001b[0;32m    857\u001b[0m     \u001b[1;32mif\u001b[0m \u001b[0mconfig\u001b[0m\u001b[1;33m.\u001b[0m\u001b[0mdebugging\u001b[0m\u001b[1;33m:\u001b[0m\u001b[1;33m\u001b[0m\u001b[1;33m\u001b[0m\u001b[0m\n",
      "\u001b[1;31mFileNotFoundError\u001b[0m: [Errno 2] No such file or directory: '../DaneDICOM/DICOMNativeAnonymized/1.2.392.200036.9116.2.2.2.1762658420.1203904329.336701/1.2.392.200036.9116.2.2.2.1762658420.1203904462.52110/1.2.392.200036.9116.2.2.2.1762658420.1203904462.52110_0002_000001_15526461190025.dcm'"
     ]
    }
   ],
   "source": [
    "#print(len(list_patients_paths))\n",
    "for patient_path in list_patients_paths:\n",
    "    slices = []\n",
    "    slices = [pydicom.read_file(patient_path + '/' + s) for s in os.listdir(patient_path)]\n",
    "    slices.sort(key = lambda x: int(x.ImagePositionPatient[2]))\n",
    "    try:\n",
    "        print(slices[0].pixel_array.shape)\n",
    "    except:\n",
    "        print(\"Pixel array not found\")\n",
    "        #plt.imshow(slices[80].pixel_array)\n",
    "    #plt.show()"
   ]
  },
  {
   "cell_type": "code",
   "execution_count": null,
   "metadata": {},
   "outputs": [],
   "source": [
    "# source: https://www.kaggle.com/gzuidhof/data-science-bowl-2017/full-preprocessing-tutorial\n",
    "def resample(image, scan, new_spacing=[1,1,1]):\n",
    "    # Determine current pixel spacing\n",
    "    spacing = map(float, ([scan[0].SliceThickness] + scan[0].PixelSpacing))\n",
    "    spacing = np.array(list(spacing))\n",
    "\n",
    "    resize_factor = spacing / new_spacing\n",
    "    new_real_shape = image.shape * resize_factor\n",
    "    new_shape = np.round(new_real_shape)\n",
    "    real_resize_factor = new_shape / image.shape\n",
    "    new_spacing = spacing / real_resize_factor\n",
    "    \n",
    "    image = scipy.ndimage.interpolation.zoom(image, real_resize_factor)\n",
    "    \n",
    "    return image, new_spacing"
   ]
  },
  {
   "cell_type": "code",
   "execution_count": null,
   "metadata": {},
   "outputs": [],
   "source": [
    "# pix_resampled, spacing = resample(first_patient_pixels, first_patient, [1,1,1])\n",
    "# print(\"Shape before resampling\\t\", first_patient_pixels.shape)\n",
    "# print(\"Shape after resampling\\t\", pix_resampled.shape)"
   ]
  },
  {
   "cell_type": "code",
   "execution_count": null,
   "metadata": {},
   "outputs": [],
   "source": [
    "def plot_3d(image, threshold=-300):\n",
    "    \n",
    "    # Position the scan upright, \n",
    "    # so the head of the patient would be at the top facing the camera\n",
    "    p = image.transpose(2,1,0)\n",
    "    p = p[:,:,::-1]\n",
    "    \n",
    "    verts, faces = measure.marching_cubes(p, threshold)\n",
    "\n",
    "    fig = plt.figure(figsize=(10, 10))\n",
    "    ax = fig.add_subplot(111, projection='3d')\n",
    "\n",
    "    # Fancy indexing: `verts[faces]` to generate a collection of triangles\n",
    "    mesh = Poly3DCollection(verts[faces], alpha=0.1)\n",
    "    face_color = [0.5, 0.5, 1]\n",
    "    mesh.set_facecolor(face_color)\n",
    "    ax.add_collection3d(mesh)\n",
    "\n",
    "    ax.set_xlim(0, p.shape[0])\n",
    "    ax.set_ylim(0, p.shape[1])\n",
    "    ax.set_zlim(0, p.shape[2])\n",
    "\n",
    "    plt.show()"
   ]
  },
  {
   "cell_type": "code",
   "execution_count": null,
   "metadata": {},
   "outputs": [],
   "source": [
    "plot_3d(first_patient_pixels, 400)"
   ]
  },
  {
   "cell_type": "code",
   "execution_count": null,
   "metadata": {},
   "outputs": [],
   "source": []
  }
 ],
 "metadata": {
  "kernelspec": {
   "display_name": "Python 3",
   "language": "python",
   "name": "python3"
  },
  "language_info": {
   "codemirror_mode": {
    "name": "ipython",
    "version": 3
   },
   "file_extension": ".py",
   "mimetype": "text/x-python",
   "name": "python",
   "nbconvert_exporter": "python",
   "pygments_lexer": "ipython3",
   "version": "3.7.3"
  }
 },
 "nbformat": 4,
 "nbformat_minor": 2
}
